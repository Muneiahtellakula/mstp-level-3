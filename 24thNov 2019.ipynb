{
 "cells": [
  {
   "cell_type": "code",
   "execution_count": 5,
   "metadata": {},
   "outputs": [],
   "source": [
    "class Point:\n",
    "    def distanceFromOrigin(self,x,y):\n",
    "        return (x*x + y*y)**0.5\n",
    "    \n",
    "\n",
    "    "
   ]
  },
  {
   "cell_type": "code",
   "execution_count": 2,
   "metadata": {},
   "outputs": [
    {
     "ename": "NameError",
     "evalue": "name 'distanceFromOrigin' is not defined",
     "output_type": "error",
     "traceback": [
      "\u001b[1;31m---------------------------------------------------------------------------\u001b[0m",
      "\u001b[1;31mNameError\u001b[0m                                 Traceback (most recent call last)",
      "\u001b[1;32m<ipython-input-2-c0ec82166148>\u001b[0m in \u001b[0;36m<module>\u001b[1;34m\u001b[0m\n\u001b[1;32m----> 1\u001b[1;33m \u001b[0mdistanceFromOrigin\u001b[0m\u001b[1;33m(\u001b[0m\u001b[1;36m3\u001b[0m\u001b[1;33m,\u001b[0m\u001b[1;36m4\u001b[0m\u001b[1;33m)\u001b[0m\u001b[1;33m\u001b[0m\u001b[1;33m\u001b[0m\u001b[0m\n\u001b[0m",
      "\u001b[1;31mNameError\u001b[0m: name 'distanceFromOrigin' is not defined"
     ]
    }
   ],
   "source": [
    "distanceFromOrigin(3,4)"
   ]
  },
  {
   "cell_type": "code",
   "execution_count": 6,
   "metadata": {},
   "outputs": [],
   "source": [
    "p=Point()\n"
   ]
  },
  {
   "cell_type": "code",
   "execution_count": 7,
   "metadata": {},
   "outputs": [
    {
     "data": {
      "text/plain": [
       "5.0"
      ]
     },
     "execution_count": 7,
     "metadata": {},
     "output_type": "execute_result"
    }
   ],
   "source": [
    "p.distanceFromOrigin(3,4)"
   ]
  },
  {
   "cell_type": "code",
   "execution_count": 42,
   "metadata": {},
   "outputs": [],
   "source": [
    "class Point:\n",
    "    def __init__(self,x=0,y=0):\n",
    "        self.x=x\n",
    "        self.y=y\n",
    "        \n",
    "    def distanceFromOrigin(self):\n",
    "        return (self.x**2+self.y**2)**0.5\n",
    "    def distance2Points(self,x1,y1):\n",
    "        return ((x1-self.x)**2 + (y1-self.y)**2 )**0.5\n",
    "    def midPoint(self,x1,y1):\n",
    "        return Point((self.x +x1)/2,(self.y +y1 )/2)\n",
    "    #Define a funtion to calculate a mid point\n",
    "    def print_point(self):\n",
    "        print('({},{})'.format(self.x,self.y))\n",
    "        \n",
    "         \n",
    "    "
   ]
  },
  {
   "cell_type": "code",
   "execution_count": 14,
   "metadata": {},
   "outputs": [
    {
     "name": "stdout",
     "output_type": "stream",
     "text": [
      "0 0\n"
     ]
    }
   ],
   "source": [
    "p1=Point()\n",
    "print(p1.x,p1.y)"
   ]
  },
  {
   "cell_type": "code",
   "execution_count": 44,
   "metadata": {},
   "outputs": [
    {
     "name": "stdout",
     "output_type": "stream",
     "text": [
      "3 4\n",
      "3.605551275463989\n",
      "<__main__.Point object at 0x0000023DD2249780>\n",
      "2.0 2.5\n",
      "(2.0,2.5)\n",
      "(3,4)\n"
     ]
    },
    {
     "data": {
      "text/plain": [
       "NoneType"
      ]
     },
     "execution_count": 44,
     "metadata": {},
     "output_type": "execute_result"
    }
   ],
   "source": [
    "p2=Point(3,4)\n",
    "print(p2.x,p2.y)\n",
    "print(p2.distance2Points(1,1))\n",
    "print(p2.midPoint(1,1))\n",
    "mid=p2.midPoint(1,1)\n",
    "print(mid.x,mid.y)\n",
    "mid.print_point()\n",
    "type(p2.print_point())"
   ]
  },
  {
   "cell_type": "code",
   "execution_count": 57,
   "metadata": {},
   "outputs": [],
   "source": [
    "#SMS Store\n",
    "import time\n",
    "class SMS_Store:\n",
    "   \n",
    "    def __init__(self):\n",
    "         self.messages = []\n",
    "    def add_new_arrival(self,from_number,time_arrived,text_of_sms):\n",
    "        return self.messages.append([from_number,time_arrived,text_of_sms,False])\n",
    "#Make new sms tuple,insert it after other messages in the store ,when creating thins message ,\n",
    "#it has_been_viewd statues is set False.\\\n",
    "    def messages_coutnt(self):\n",
    "       \n",
    "        return len(self,messages) \n",
    "    def get_unread_indexes(self):\n",
    "        unread_ind=[]\n",
    "        for msg in range(len(self.messages)):\n",
    "            if self.messages[msg][-1] ==False:\n",
    "                unread_ind.append(msg)\n",
    "        return unread_ind\n",
    "    def get_message(self,i):\n",
    "        self.messages[i][-1]=True\n",
    "        return self.messages[i][:3]\n",
    "    def delete(self,i):\n",
    "        self.messages.pop(i)\n",
    "    def clear():\n",
    "        self.messages.clear()\n",
    "\n"
   ]
  },
  {
   "cell_type": "code",
   "execution_count": 60,
   "metadata": {},
   "outputs": [],
   "source": [
    "myInbox=SMS_Store()\n",
    "myInbox.add_new_arrival(9876543210,\"12:21\",\"Hello Darling\")\n"
   ]
  },
  {
   "cell_type": "code",
   "execution_count": 61,
   "metadata": {},
   "outputs": [
    {
     "data": {
      "text/plain": [
       "[[9876543210, '12:21', 'Hello Darling', False]]"
      ]
     },
     "execution_count": 61,
     "metadata": {},
     "output_type": "execute_result"
    }
   ],
   "source": [
    "myInbox.messages"
   ]
  },
  {
   "cell_type": "markdown",
   "metadata": {},
   "source": []
  },
  {
   "cell_type": "code",
   "execution_count": null,
   "metadata": {},
   "outputs": [],
   "source": []
  },
  {
   "cell_type": "code",
   "execution_count": null,
   "metadata": {},
   "outputs": [],
   "source": []
  },
  {
   "cell_type": "code",
   "execution_count": null,
   "metadata": {},
   "outputs": [],
   "source": []
  },
  {
   "cell_type": "markdown",
   "metadata": {},
   "source": [
    "## Regular Expressions \n",
    "   * To Validate the data\n",
    "   * To Extract the data"
   ]
  },
  {
   "cell_type": "code",
   "execution_count": 1,
   "metadata": {},
   "outputs": [],
   "source": [
    "import re"
   ]
  },
  {
   "cell_type": "code",
   "execution_count": 63,
   "metadata": {},
   "outputs": [
    {
     "name": "stdout",
     "output_type": "stream",
     "text": [
      "['A', 'ASCII', 'DEBUG', 'DOTALL', 'I', 'IGNORECASE', 'L', 'LOCALE', 'M', 'MULTILINE', 'Match', 'Pattern', 'RegexFlag', 'S', 'Scanner', 'T', 'TEMPLATE', 'U', 'UNICODE', 'VERBOSE', 'X', '_MAXCACHE', '__all__', '__builtins__', '__cached__', '__doc__', '__file__', '__loader__', '__name__', '__package__', '__spec__', '__version__', '_cache', '_compile', '_compile_repl', '_expand', '_locale', '_pickle', '_special_chars_map', '_subx', 'compile', 'copyreg', 'enum', 'error', 'escape', 'findall', 'finditer', 'fullmatch', 'functools', 'match', 'purge', 'search', 'split', 'sre_compile', 'sre_parse', 'sub', 'subn', 'template']\n"
     ]
    }
   ],
   "source": [
    "print(dir(re))"
   ]
  },
  {
   "cell_type": "code",
   "execution_count": 64,
   "metadata": {},
   "outputs": [
    {
     "name": "stdout",
     "output_type": "stream",
     "text": [
      "<re.Match object; span=(12, 13), match='a'>\n"
     ]
    }
   ],
   "source": [
    "name=\"python program\"\n",
    "print(re.search('a',name))"
   ]
  },
  {
   "cell_type": "code",
   "execution_count": 66,
   "metadata": {},
   "outputs": [
    {
     "name": "stdout",
     "output_type": "stream",
     "text": [
      "None\n"
     ]
    }
   ],
   "source": [
    "name=\"python program\"\n",
    "print(re.search('k',name))"
   ]
  },
  {
   "cell_type": "code",
   "execution_count": 73,
   "metadata": {},
   "outputs": [
    {
     "name": "stdout",
     "output_type": "stream",
     "text": [
      "muni\n",
      "Hanuman\n",
      "raju\n"
     ]
    }
   ],
   "source": [
    "# Print the the name s which contains 'u' in thier name by using R E\n",
    "names=['muni','sai','Hanuman','raju']\n",
    "for i in names:\n",
    "    if re.search('u',i):\n",
    "        print(i)\n",
    "    "
   ]
  },
  {
   "cell_type": "code",
   "execution_count": 78,
   "metadata": {},
   "outputs": [
    {
     "name": "stdout",
     "output_type": "stream",
     "text": [
      "<re.Match object; span=(0, 6), match='python'>\n"
     ]
    }
   ],
   "source": [
    "name\n",
    "print(re.match('python',name))"
   ]
  },
  {
   "cell_type": "code",
   "execution_count": 79,
   "metadata": {},
   "outputs": [
    {
     "name": "stdout",
     "output_type": "stream",
     "text": [
      "['p', 'p']\n"
     ]
    }
   ],
   "source": [
    "#data extract \n",
    "print(re.findall('p',name))\n"
   ]
  },
  {
   "cell_type": "code",
   "execution_count": 88,
   "metadata": {},
   "outputs": [
    {
     "name": "stdout",
     "output_type": "stream",
     "text": [
      "None\n",
      "<re.Match object; span=(2, 4), match='ni'>\n",
      "<re.Match object; span=(0, 2), match='mu'>\n",
      "<re.Match object; span=(0, 4), match='muni'>\n",
      "None\n"
     ]
    }
   ],
   "source": [
    "#Special characters \n",
    "# . or (dot)  -->any single charator\n",
    "print(re.search('.',''))\n",
    "print(re.search('n.','muni'))\n",
    "print(re.match('m.','muni'))\n",
    "print(re.match('....','muni'))\n",
    "print(re.match('.....','muni'))"
   ]
  },
  {
   "cell_type": "code",
   "execution_count": 91,
   "metadata": {},
   "outputs": [
    {
     "name": "stdout",
     "output_type": "stream",
     "text": [
      "123\n",
      "1234\n",
      "123\n",
      "1234\n"
     ]
    }
   ],
   "source": [
    "numbers=['12','123','1234','123','1234']\n",
    "for i in numbers:\n",
    "    if re.search('...',i):\n",
    "        print(i)"
   ]
  },
  {
   "cell_type": "code",
   "execution_count": 95,
   "metadata": {},
   "outputs": [
    {
     "name": "stdout",
     "output_type": "stream",
     "text": [
      "<re.Match object; span=(0, 1), match='m'>\n",
      "None\n"
     ]
    }
   ],
   "source": [
    "# ^ (cap)-->Starting with\n",
    "print(re.search('^m','muni'))\n",
    "print(re.search('^r','muni'))"
   ]
  },
  {
   "cell_type": "code",
   "execution_count": 97,
   "metadata": {},
   "outputs": [
    {
     "name": "stdout",
     "output_type": "stream",
     "text": [
      "<re.Match object; span=(3, 4), match='i'>\n",
      "None\n"
     ]
    }
   ],
   "source": [
    "#$(Doller) -->Ending with\n",
    "print(re.search('i$','muni'))\n",
    "print(re.search('k$','muni'))"
   ]
  },
  {
   "cell_type": "code",
   "execution_count": 101,
   "metadata": {},
   "outputs": [
    {
     "name": "stdout",
     "output_type": "stream",
     "text": [
      "123\n",
      "123\n"
     ]
    }
   ],
   "source": [
    "numbers=['12','123','1234','123','1234']\n",
    "for i in numbers:\n",
    "    if re.match('...$',i):\n",
    "        print(i)"
   ]
  },
  {
   "cell_type": "code",
   "execution_count": 103,
   "metadata": {},
   "outputs": [
    {
     "name": "stdout",
     "output_type": "stream",
     "text": [
      "123\n",
      "163\n"
     ]
    }
   ],
   "source": [
    "numbers=['12','123','1234','163','1234']\n",
    "for i in numbers:\n",
    "    if re.match('^1.3$',i):\n",
    "        print(i)"
   ]
  },
  {
   "cell_type": "code",
   "execution_count": 104,
   "metadata": {},
   "outputs": [
    {
     "name": "stdout",
     "output_type": "stream",
     "text": [
      "<re.Match object; span=(6, 7), match='1'>\n"
     ]
    }
   ],
   "source": [
    "# \\d(backward slash)-->any single digit\n",
    "print(re.search('\\d','sairam1ram2'))"
   ]
  },
  {
   "cell_type": "code",
   "execution_count": 109,
   "metadata": {},
   "outputs": [
    {
     "data": {
      "text/plain": [
       "2"
      ]
     },
     "execution_count": 109,
     "metadata": {},
     "output_type": "execute_result"
    }
   ],
   "source": [
    "#find the sum of all the digit in data\n",
    "novel='evey 1 has a story or 100 stories'\n",
    "str_numbers=re.findall('\\d',novel)\n",
    "            #map(fun,collectionOfItems)\n",
    "map(int,str_numbers)#Address\n",
    "list(map(int,str_numbers))\n",
    "sum(list(map(int,str_numbers)))\n",
    "#print(sum(map(int,re.findall('\\d',novel))))"
   ]
  },
  {
   "cell_type": "code",
   "execution_count": 112,
   "metadata": {},
   "outputs": [
    {
     "data": {
      "text/plain": [
       "['100', '200']"
      ]
     },
     "execution_count": 112,
     "metadata": {},
     "output_type": "execute_result"
    }
   ],
   "source": [
    "novel2='evey 1 has a story or 100 stories 200 hi'\n",
    "re.findall('\\d\\d\\d',novel2)"
   ]
  },
  {
   "cell_type": "code",
   "execution_count": 120,
   "metadata": {},
   "outputs": [
    {
     "name": "stdout",
     "output_type": "stream",
     "text": [
      "<re.Match object; span=(0, 2), match='mu'>\n",
      "<re.Match object; span=(0, 7), match='muneiah'>\n",
      "<re.Match object; span=(0, 4), match='mune'>\n"
     ]
    }
   ],
   "source": [
    "# { min ,max}-->(Curly braces)\n",
    "print(re.search('.{2}','muni'))#min\n",
    "print(re.search('.{7}','muneiah'))#max\n",
    "print(re.search('.{2,4}','muneiah tellakula'))#min,max"
   ]
  },
  {
   "cell_type": "code",
   "execution_count": 128,
   "metadata": {},
   "outputs": [
    {
     "name": "stdout",
     "output_type": "stream",
     "text": [
      "['1', '56557', '100', '2000000000']\n",
      "['1', '56557', '100', '2000000000']\n"
     ]
    }
   ],
   "source": [
    "novel2='evey 1 has a 56557 story or 100 stories 2000000000 hi'\n",
    "print(re.findall('\\d{1,10}',novel2))#min Digits is 1 and max is 10\n",
    "print(re.findall('\\d{1,}',novel2))#min Digits is 1 and max is un-limited"
   ]
  },
  {
   "cell_type": "code",
   "execution_count": 132,
   "metadata": {},
   "outputs": [
    {
     "name": "stdout",
     "output_type": "stream",
     "text": [
      "<re.Match object; span=(0, 1), match='a'>\n",
      "<re.Match object; span=(3, 4), match='h'>\n"
     ]
    }
   ],
   "source": [
    "# []->(set) ========= Accept names which statrs either 'a','c','h'\n",
    "#[ach] or [ach]\n",
    "print(re.search('[ach]','apssdc'))\n",
    "print(re.search('[a-k]','lmnhai'))\n"
   ]
  },
  {
   "cell_type": "code",
   "execution_count": 133,
   "metadata": {},
   "outputs": [
    {
     "name": "stdout",
     "output_type": "stream",
     "text": [
      "<re.Match object; span=(6, 7), match='h'>\n"
     ]
    }
   ],
   "source": [
    "# [^acd] -->don't want this format\n",
    "        # neither a nor c nor d\n",
    "print(re.search('[^acd]','acdacdhai'))\n"
   ]
  },
  {
   "cell_type": "code",
   "execution_count": 139,
   "metadata": {},
   "outputs": [
    {
     "name": "stdout",
     "output_type": "stream",
     "text": [
      "483786835837859\n"
     ]
    },
    {
     "data": {
      "text/plain": [
       "False"
      ]
     },
     "execution_count": 139,
     "metadata": {},
     "output_type": "execute_result"
    }
   ],
   "source": [
    "#Mobile number validation\n",
    "def isValidMobileNumber(n):\n",
    "    pattern='^[6-9][0-9]{9}$' #or '^[6-9]\\d{9}$' or #'^[6-9]{1}[0-9]{9}$'\n",
    "    if re.match(pattern,str(n)):\n",
    "        return True\n",
    "    return False\n",
    "n=int(input())\n",
    "isValidMobileNumber(n)\n"
   ]
  },
  {
   "cell_type": "code",
   "execution_count": 140,
   "metadata": {},
   "outputs": [
    {
     "name": "stdout",
     "output_type": "stream",
     "text": [
      "9876543210\n",
      "9087654332\n",
      "8907654321\n"
     ]
    }
   ],
   "source": [
    "numbers=['9876543210','9087654332','1234567890','8907654321','07878782624']\n",
    "for i in numbers:\n",
    "    if isValidMobileNumber(i):\n",
    "        print(i)"
   ]
  },
  {
   "cell_type": "markdown",
   "metadata": {},
   "source": [
    "### \\D\n",
    "         * other then single Digit\n",
    "         * means any single character\n",
    "### \\s(small letter)\n",
    "        * Any space single charecters\n",
    "### \\S(capital)\n",
    "        * other then space single charecters\n",
    "### \\w(small)\n",
    "* Single identifyer char\n",
    "  -  a-z A-z _ 0-9\n",
    "### \\W(captital)\n",
    "* other then Single identifyer char like \\w\n",
    "  -  a-z A-z _ 0-9(except)\n",
    "### * (star)\n",
    "* zero or more occarences\n",
    "### + (plus)\n",
    "* at least 1 or more success "
   ]
  },
  {
   "cell_type": "code",
   "execution_count": 142,
   "metadata": {},
   "outputs": [
    {
     "name": "stdout",
     "output_type": "stream",
     "text": [
      "<re.Match object; span=(3, 4), match=' '>\n"
     ]
    }
   ],
   "source": [
    "print(re.search('\\D','123 rama'))##\\D"
   ]
  },
  {
   "cell_type": "code",
   "execution_count": 147,
   "metadata": {},
   "outputs": [
    {
     "name": "stdout",
     "output_type": "stream",
     "text": [
      "<re.Match object; span=(3, 4), match=' '>\n",
      "<re.Match object; span=(0, 1), match='s'>\n",
      "<re.Match object; span=(1, 2), match='_'>\n",
      "<re.Match object; span=(5, 6), match=' '>\n"
     ]
    }
   ],
   "source": [
    "print(re.search('\\s','sai  rama'))##\\s\n",
    "print(re.search('\\S','sai  rama'))##\\s\n",
    "print(re.search('\\w',' _9az'))##\\w\n",
    "print(re.search('\\W','sail_ ram'))##\\W"
   ]
  },
  {
   "cell_type": "code",
   "execution_count": 149,
   "metadata": {},
   "outputs": [],
   "source": [
    "#identify the the count of lowercase a-z in the given string \n",
    "nov='Every 1 has Story'"
   ]
  },
  {
   "cell_type": "code",
   "execution_count": 154,
   "metadata": {},
   "outputs": [
    {
     "name": "stdout",
     "output_type": "stream",
     "text": [
      "['v', 'e', 'r', 'y', 'h', 'a', 's', 't', 'o', 'r', 'y']\n"
     ]
    },
    {
     "data": {
      "text/plain": [
       "11"
      ]
     },
     "execution_count": 154,
     "metadata": {},
     "output_type": "execute_result"
    }
   ],
   "source": [
    "# chr=re.findall('[a-z]',nov)\n",
    "print(re.findall('[a-z]',nov))\n",
    "len(re.findall('[a-z]',nov))"
   ]
  },
  {
   "cell_type": "code",
   "execution_count": 156,
   "metadata": {},
   "outputs": [
    {
     "name": "stdout",
     "output_type": "stream",
     "text": [
      "<re.Match object; span=(0, 0), match=''>\n"
     ]
    }
   ],
   "source": [
    "print(re.search('a*','python'))# any char "
   ]
  },
  {
   "cell_type": "code",
   "execution_count": 167,
   "metadata": {},
   "outputs": [
    {
     "name": "stdout",
     "output_type": "stream",
     "text": [
      "<re.Match object; span=(0, 4), match='1111'>\n",
      "<re.Match object; span=(0, 2), match='sm'>\n",
      "None\n",
      "<re.Match object; span=(4, 8), match='1111'>\n",
      "<re.Match object; span=(0, 0), match=''>\n",
      "<re.Match object; span=(0, 7), match='sai ram'>\n"
     ]
    }
   ],
   "source": [
    "print(re.search('1*','1111222233111'))\n",
    "print(re.search('^s.*m$','sm'))#zero or more\n",
    "print(re.search('^s*m$','saim'))#zno ero or more \n",
    "print(re.search('1+','22221111333111'))#at least any cha\n",
    "print(re.search('1*','22221111333111'))#failure acceptes\n",
    "print(re.search('^s.+m$','sai ram'))#zno ero or more "
   ]
  },
  {
   "cell_type": "code",
   "execution_count": 177,
   "metadata": {},
   "outputs": [
    {
     "data": {
      "text/plain": [
       "['u', 'e', 'i', 'a', 'e', 'a', 'u', 'a']"
      ]
     },
     "execution_count": 177,
     "metadata": {},
     "output_type": "execute_result"
    }
   ],
   "source": [
    "dt='Muneiah Tellakula'\n",
    "ovels=re.findall(\"[aeiou]\",dt)\n",
    "ovels"
   ]
  },
  {
   "cell_type": "code",
   "execution_count": 176,
   "metadata": {},
   "outputs": [
    {
     "name": "stdout",
     "output_type": "stream",
     "text": [
      "['u', 'e', 'i', 'a']\n",
      "4\n"
     ]
    }
   ],
   "source": [
    "c_o=[]\n",
    "for ovel in ovels:\n",
    "    if ovel not in c_o:\n",
    "        c_o.append(ovel)\n",
    "print(c_o)\n",
    "print(len(c_o))"
   ]
  },
  {
   "cell_type": "markdown",
   "metadata": {},
   "source": [
    "# Task :\n",
    "1. Email Validation\n",
    "2. Write a patteern to fiind 3 digit numbers and calculate the sum\n",
    "3. content ='''ramu got 100 for maths 150 for physics and total marks from school to college 4000 marks he got .'''\n",
    "    * Implent logic\n",
    "    * output 100 +150 =250"
   ]
  },
  {
   "cell_type": "code",
   "execution_count": 18,
   "metadata": {},
   "outputs": [
    {
     "name": "stdout",
     "output_type": "stream",
     "text": [
      "_muni.apssdc@gmail.com\n"
     ]
    },
    {
     "data": {
      "text/plain": [
       "False"
      ]
     },
     "execution_count": 18,
     "metadata": {},
     "output_type": "execute_result"
    }
   ],
   "source": [
    "def emailValidation(email):\n",
    "    pattern='^[A-Za-z][a-zA-z0-9._]{8,18}[@][a-z]{4,7}[.][a-z]{2,4}$'\n",
    "#     print(re.match(pattern,email))\n",
    "    if re.match(pattern,email):\n",
    "        return True\n",
    "    return False\n",
    "email=input()\n",
    "emailValidation(email)"
   ]
  },
  {
   "cell_type": "code",
   "execution_count": 16,
   "metadata": {},
   "outputs": [],
   "source": [
    "emails=['muni.apssdc@gmail.com','muneiahtellakula@gmail.com','muneiah.t@apssdc.in',\\\n",
    "    'muni.apssdc@yahoo.com','munendhra@rediff.com','harideep028@gmail.com','348bhai@gmail.com','_ramachandra@yahoo.com']"
   ]
  },
  {
   "cell_type": "code",
   "execution_count": 19,
   "metadata": {},
   "outputs": [
    {
     "name": "stdout",
     "output_type": "stream",
     "text": [
      "muni.apssdc@gmail.com\n",
      "muneiahtellakula@gmail.com\n",
      "muneiah.t@apssdc.in\n",
      "muni.apssdc@yahoo.com\n",
      "munendhra@rediff.com\n",
      "harideep028@gmail.com\n"
     ]
    }
   ],
   "source": [
    "for email in emails:\n",
    "    if emailValidation(email):\n",
    "        print(email)\n",
    "        "
   ]
  },
  {
   "cell_type": "code",
   "execution_count": 12,
   "metadata": {},
   "outputs": [],
   "source": [
    "re.search('^[A-Za-z]','_ramachandra@yahoo.com')"
   ]
  },
  {
   "cell_type": "code",
   "execution_count": 20,
   "metadata": {},
   "outputs": [],
   "source": [
    "import os"
   ]
  },
  {
   "cell_type": "code",
   "execution_count": 21,
   "metadata": {},
   "outputs": [
    {
     "name": "stdout",
     "output_type": "stream",
     "text": [
      "['DirEntry', 'F_OK', 'MutableMapping', 'O_APPEND', 'O_BINARY', 'O_CREAT', 'O_EXCL', 'O_NOINHERIT', 'O_RANDOM', 'O_RDONLY', 'O_RDWR', 'O_SEQUENTIAL', 'O_SHORT_LIVED', 'O_TEMPORARY', 'O_TEXT', 'O_TRUNC', 'O_WRONLY', 'P_DETACH', 'P_NOWAIT', 'P_NOWAITO', 'P_OVERLAY', 'P_WAIT', 'PathLike', 'R_OK', 'SEEK_CUR', 'SEEK_END', 'SEEK_SET', 'TMP_MAX', 'W_OK', 'X_OK', '_Environ', '__all__', '__builtins__', '__cached__', '__doc__', '__file__', '__loader__', '__name__', '__package__', '__spec__', '_execvpe', '_exists', '_exit', '_fspath', '_get_exports_list', '_putenv', '_unsetenv', '_wrap_close', 'abc', 'abort', 'access', 'altsep', 'chdir', 'chmod', 'close', 'closerange', 'cpu_count', 'curdir', 'defpath', 'device_encoding', 'devnull', 'dup', 'dup2', 'environ', 'error', 'execl', 'execle', 'execlp', 'execlpe', 'execv', 'execve', 'execvp', 'execvpe', 'extsep', 'fdopen', 'fsdecode', 'fsencode', 'fspath', 'fstat', 'fsync', 'ftruncate', 'get_exec_path', 'get_handle_inheritable', 'get_inheritable', 'get_terminal_size', 'getcwd', 'getcwdb', 'getenv', 'getlogin', 'getpid', 'getppid', 'isatty', 'kill', 'linesep', 'link', 'listdir', 'lseek', 'lstat', 'makedirs', 'mkdir', 'name', 'open', 'pardir', 'path', 'pathsep', 'pipe', 'popen', 'putenv', 'read', 'readlink', 'remove', 'removedirs', 'rename', 'renames', 'replace', 'rmdir', 'scandir', 'sep', 'set_handle_inheritable', 'set_inheritable', 'spawnl', 'spawnle', 'spawnv', 'spawnve', 'st', 'startfile', 'stat', 'stat_result', 'statvfs_result', 'strerror', 'supports_bytes_environ', 'supports_dir_fd', 'supports_effective_ids', 'supports_fd', 'supports_follow_symlinks', 'symlink', 'sys', 'system', 'terminal_size', 'times', 'times_result', 'truncate', 'umask', 'uname_result', 'unlink', 'urandom', 'utime', 'waitpid', 'walk', 'write']\n"
     ]
    }
   ],
   "source": [
    "print(dir(os))"
   ]
  },
  {
   "cell_type": "code",
   "execution_count": 22,
   "metadata": {},
   "outputs": [
    {
     "data": {
      "text/plain": [
       "'C:\\\\Users\\\\IIIT-rgukt\\\\Documents\\\\python_programming-Apssdc'"
      ]
     },
     "execution_count": 22,
     "metadata": {},
     "output_type": "execute_result"
    }
   ],
   "source": [
    "os.getcwd()"
   ]
  },
  {
   "cell_type": "code",
   "execution_count": 24,
   "metadata": {},
   "outputs": [
    {
     "data": {
      "text/plain": [
       "'.;C:\\\\bin'"
      ]
     },
     "execution_count": 24,
     "metadata": {},
     "output_type": "execute_result"
    }
   ],
   "source": [
    "os.defpath"
   ]
  },
  {
   "cell_type": "code",
   "execution_count": 25,
   "metadata": {},
   "outputs": [
    {
     "data": {
      "text/plain": [
       "'nt'"
      ]
     },
     "execution_count": 25,
     "metadata": {},
     "output_type": "execute_result"
    }
   ],
   "source": [
    "os.name"
   ]
  },
  {
   "cell_type": "code",
   "execution_count": 26,
   "metadata": {},
   "outputs": [
    {
     "data": {
      "text/plain": [
       "['.ipynb_checkpoints', '24thNov 2019.ipynb']"
      ]
     },
     "execution_count": 26,
     "metadata": {},
     "output_type": "execute_result"
    }
   ],
   "source": [
    "os.listdir()"
   ]
  },
  {
   "cell_type": "code",
   "execution_count": 27,
   "metadata": {},
   "outputs": [
    {
     "data": {
      "text/plain": [
       "['All Users',\n",
       " 'Default',\n",
       " 'Default User',\n",
       " 'defaultuser0',\n",
       " 'desktop.ini',\n",
       " 'IIIT-rgukt',\n",
       " 'Public']"
      ]
     },
     "execution_count": 27,
     "metadata": {},
     "output_type": "execute_result"
    }
   ],
   "source": [
    "os.listdir('c:/Users')"
   ]
  },
  {
   "cell_type": "code",
   "execution_count": 28,
   "metadata": {},
   "outputs": [
    {
     "ename": "FileNotFoundError",
     "evalue": "[WinError 3] The system cannot find the path specified: 'E:'",
     "output_type": "error",
     "traceback": [
      "\u001b[1;31m---------------------------------------------------------------------------\u001b[0m",
      "\u001b[1;31mFileNotFoundError\u001b[0m                         Traceback (most recent call last)",
      "\u001b[1;32m<ipython-input-28-73512b23ac28>\u001b[0m in \u001b[0;36m<module>\u001b[1;34m\u001b[0m\n\u001b[1;32m----> 1\u001b[1;33m \u001b[0mos\u001b[0m\u001b[1;33m.\u001b[0m\u001b[0mlistdir\u001b[0m\u001b[1;33m(\u001b[0m\u001b[1;34m'E:'\u001b[0m\u001b[1;33m)\u001b[0m\u001b[1;33m\u001b[0m\u001b[1;33m\u001b[0m\u001b[0m\n\u001b[0m",
      "\u001b[1;31mFileNotFoundError\u001b[0m: [WinError 3] The system cannot find the path specified: 'E:'"
     ]
    }
   ],
   "source": [
    "os.listdir('E:')"
   ]
  },
  {
   "cell_type": "code",
   "execution_count": 29,
   "metadata": {},
   "outputs": [],
   "source": [
    "os.mkdir('temp folder')"
   ]
  },
  {
   "cell_type": "code",
   "execution_count": 31,
   "metadata": {},
   "outputs": [],
   "source": [
    "os.chdir('D:/')"
   ]
  },
  {
   "cell_type": "code",
   "execution_count": 35,
   "metadata": {},
   "outputs": [],
   "source": [
    "import statistics as s\n"
   ]
  },
  {
   "cell_type": "code",
   "execution_count": 36,
   "metadata": {},
   "outputs": [
    {
     "name": "stdout",
     "output_type": "stream",
     "text": [
      "['Decimal', 'Fraction', 'StatisticsError', '__all__', '__builtins__', '__cached__', '__doc__', '__file__', '__loader__', '__name__', '__package__', '__spec__', '_coerce', '_convert', '_counts', '_exact_ratio', '_fail_neg', '_find_lteq', '_find_rteq', '_isfinite', '_ss', '_sum', 'bisect_left', 'bisect_right', 'collections', 'groupby', 'harmonic_mean', 'math', 'mean', 'median', 'median_grouped', 'median_high', 'median_low', 'mode', 'numbers', 'pstdev', 'pvariance', 'stdev', 'variance']\n"
     ]
    }
   ],
   "source": [
    "print(dir(s))"
   ]
  },
  {
   "cell_type": "code",
   "execution_count": 37,
   "metadata": {},
   "outputs": [
    {
     "data": {
      "text/plain": [
       "3"
      ]
     },
     "execution_count": 37,
     "metadata": {},
     "output_type": "execute_result"
    }
   ],
   "source": [
    "s.mean([1,2,3,4,5])"
   ]
  },
  {
   "cell_type": "code",
   "execution_count": 41,
   "metadata": {},
   "outputs": [
    {
     "data": {
      "text/plain": [
       "35.0"
      ]
     },
     "execution_count": 41,
     "metadata": {},
     "output_type": "execute_result"
    }
   ],
   "source": [
    "li=[50,20,30,10,40,60]\n",
    "s.median(li)"
   ]
  },
  {
   "cell_type": "code",
   "execution_count": 45,
   "metadata": {},
   "outputs": [
    {
     "name": "stdout",
     "output_type": "stream",
     "text": [
      "40\n",
      "30\n"
     ]
    }
   ],
   "source": [
    "li2=[50,20,30,10,40,60]\n",
    "print(s.median_high(li))\n",
    "print(s.median_low(li2))\n"
   ]
  },
  {
   "cell_type": "code",
   "execution_count": 48,
   "metadata": {},
   "outputs": [
    {
     "name": "stdout",
     "output_type": "stream",
     "text": [
      "[10, 10, 10, 10, 20, 30]\n",
      "[(10, 4), (20, 1), (30, 1)]\n"
     ]
    }
   ],
   "source": [
    "from collections import Counter\n",
    "cnt=Counter([10,20,30,10,10,10])\n",
    "print(list(cnt.elements()))\n",
    "print(cnt.most_common())"
   ]
  },
  {
   "cell_type": "code",
   "execution_count": 50,
   "metadata": {},
   "outputs": [
    {
     "name": "stdout",
     "output_type": "stream",
     "text": [
      "[('b', 4)]\n",
      "[('b', 4), ('a', 3)]\n"
     ]
    }
   ],
   "source": [
    "cnt1=Counter('abcabcbba')\n",
    "print(cnt1.most_common(1))\n",
    "print(cnt1.most_common(2))"
   ]
  },
  {
   "cell_type": "code",
   "execution_count": 51,
   "metadata": {},
   "outputs": [
    {
     "name": "stdout",
     "output_type": "stream",
     "text": [
      "['ArithmeticError', 'AssertionError', 'AttributeError', 'BaseException', 'BlockingIOError', 'BrokenPipeError', 'BufferError', 'BytesWarning', 'ChildProcessError', 'ConnectionAbortedError', 'ConnectionError', 'ConnectionRefusedError', 'ConnectionResetError', 'DeprecationWarning', 'EOFError', 'Ellipsis', 'EnvironmentError', 'Exception', 'False', 'FileExistsError', 'FileNotFoundError', 'FloatingPointError', 'FutureWarning', 'GeneratorExit', 'IOError', 'ImportError', 'ImportWarning', 'IndentationError', 'IndexError', 'InterruptedError', 'IsADirectoryError', 'KeyError', 'KeyboardInterrupt', 'LookupError', 'MemoryError', 'ModuleNotFoundError', 'NameError', 'None', 'NotADirectoryError', 'NotImplemented', 'NotImplementedError', 'OSError', 'OverflowError', 'PendingDeprecationWarning', 'PermissionError', 'ProcessLookupError', 'RecursionError', 'ReferenceError', 'ResourceWarning', 'RuntimeError', 'RuntimeWarning', 'StopAsyncIteration', 'StopIteration', 'SyntaxError', 'SyntaxWarning', 'SystemError', 'SystemExit', 'TabError', 'TimeoutError', 'True', 'TypeError', 'UnboundLocalError', 'UnicodeDecodeError', 'UnicodeEncodeError', 'UnicodeError', 'UnicodeTranslateError', 'UnicodeWarning', 'UserWarning', 'ValueError', 'Warning', 'WindowsError', 'ZeroDivisionError', '__IPYTHON__', '__build_class__', '__debug__', '__doc__', '__import__', '__loader__', '__name__', '__package__', '__spec__', 'abs', 'all', 'any', 'ascii', 'bin', 'bool', 'breakpoint', 'bytearray', 'bytes', 'callable', 'chr', 'classmethod', 'compile', 'complex', 'copyright', 'credits', 'delattr', 'dict', 'dir', 'display', 'divmod', 'enumerate', 'eval', 'exec', 'filter', 'float', 'format', 'frozenset', 'get_ipython', 'getattr', 'globals', 'hasattr', 'hash', 'help', 'hex', 'id', 'input', 'int', 'isinstance', 'issubclass', 'iter', 'len', 'license', 'list', 'locals', 'map', 'max', 'memoryview', 'min', 'next', 'object', 'oct', 'open', 'ord', 'pow', 'print', 'property', 'range', 'repr', 'reversed', 'round', 'set', 'setattr', 'slice', 'sorted', 'staticmethod', 'str', 'sum', 'super', 'tuple', 'type', 'vars', 'zip']\n"
     ]
    }
   ],
   "source": [
    "print(dir(__builtins__))"
   ]
  },
  {
   "cell_type": "code",
   "execution_count": 54,
   "metadata": {},
   "outputs": [
    {
     "name": "stdout",
     "output_type": "stream",
     "text": [
      "\n",
      "Please wait a moment while I gather a list of all available modules...\n",
      "\n"
     ]
    },
    {
     "name": "stderr",
     "output_type": "stream",
     "text": [
      "D:\\anaconda\\lib\\site-packages\\IPython\\kernel\\__init__.py:13: ShimWarning: The `IPython.kernel` package has been deprecated since IPython 4.0.You should import from ipykernel or jupyter_client instead.\n",
      "  \"You should import from ipykernel or jupyter_client instead.\", ShimWarning)\n",
      "WARNING: AstropyDeprecationWarning: astropy.utils.compat.futures is now deprecated - use concurrent.futures instead [astropy.utils.compat.futures]\n",
      "WARNING: The conda.compat module is deprecated and will be removed in a future release.\n",
      "D:\\anaconda\\lib\\site-packages\\distributed\\config.py:20: YAMLLoadWarning: calling yaml.load() without Loader=... is deprecated, as the default Loader is unsafe. Please read https://msg.pyyaml.org/load for full details.\n",
      "  defaults = yaml.load(f)\n",
      "D:\\anaconda\\lib\\site-packages\\nltk\\twitter\\__init__.py:22: UserWarning: The twython library has not been installed. Some functionality from the twitter package will not be available.\n",
      "  \"The twython library has not been installed. \"\n",
      "D:\\anaconda\\lib\\site-packages\\skimage\\novice\\__init__.py:103: UserWarning: The `skimage.novice` module was deprecated in version 0.14. It will be removed in 0.16.\n",
      "  warnings.warn(\"The `skimage.novice` module was deprecated in version 0.14. \"\n",
      "D:\\anaconda\\lib\\site-packages\\skimage\\viewer\\utils\\core.py:10: UserWarning: Recommended matplotlib backend is `Agg` for full skimage.viewer functionality.\n",
      "  warn(\"Recommended matplotlib backend is `Agg` for full \"\n",
      "D:\\anaconda\\lib\\site-packages\\sphinx\\websupport\\__init__.py:25: RemovedInSphinx20Warning: sphinx.websupport module is now provided as sphinxcontrib-websupport. sphinx.websupport will be removed at Sphinx-2.0. Please use the package instead.\n",
      "  RemovedInSphinx20Warning)\n",
      "D:\\anaconda\\lib\\site-packages\\qtawesome\\iconic_font.py:276: UserWarning: You need to have a running QApplication to use QtAwesome!\n",
      "  warnings.warn(\"You need to have a running \"\n",
      "D:\\anaconda\\lib\\pkgutil.py:107: VisibleDeprecationWarning: zmq.eventloop.minitornado is deprecated in pyzmq 14.0 and will be removed.\n",
      "    Install tornado itself to use zmq with the tornado IOLoop.\n",
      "    \n",
      "  yield from walk_packages(path, info.name+'.', onerror)\n"
     ]
    },
    {
     "name": "stdout",
     "output_type": "stream",
     "text": [
      "Crypto              builtins            mkl                 sphinx\n",
      "Cython              bz2                 mkl_fft             sphinxcontrib\n",
      "IPython             cProfile            mkl_random          spyder\n",
      "OpenSSL             calendar            mmap                spyder_breakpoints\n",
      "PIL                 certifi             mmapfile            spyder_io_dcm\n",
      "PyQt5               cffi                mmsystem            spyder_io_hdf5\n",
      "__future__          cgi                 modulefinder        spyder_kernels\n",
      "_abc                cgitb               more_itertools      spyder_profiler\n",
      "_ast                chardet             mpmath              spyder_pylint\n",
      "_asyncio            chunk               msgpack             sqlalchemy\n",
      "_bisect             click               msilib              sqlite3\n",
      "_blake2             cloudpickle         msvcrt              sre_compile\n",
      "_bootlocale         clyent              multipledispatch    sre_constants\n",
      "_bz2                cmath               multiprocessing     sre_parse\n",
      "_cffi_backend       cmd                 navigator_updater   ssl\n",
      "_codecs             code                nbconvert           sspi\n",
      "_codecs_cn          codecs              nbformat            sspicon\n",
      "_codecs_hk          codeop              netbios             stat\n",
      "_codecs_iso2022     collections         netrc               statistics\n",
      "_codecs_jp          colorama            networkx            statsmodels\n",
      "_codecs_kr          colorsys            nltk                storemagic\n",
      "_codecs_tw          commctrl            nntplib             string\n",
      "_collections        compileall          nose                stringprep\n",
      "_collections_abc    comtypes            notebook            struct\n",
      "_compat_pickle      concurrent          nt                  subprocess\n",
      "_compression        conda               ntpath              sunau\n",
      "_contextvars        conda_build         ntsecuritycon       symbol\n",
      "_csv                conda_env           nturl2path          sympy\n",
      "_ctypes             conda_verify        numba               sympyprinting\n",
      "_ctypes_test        configparser        numbers             symtable\n",
      "_datetime           contextlib          numexpr             sys\n",
      "_decimal            contextlib2         numpy               sysconfig\n",
      "_dummy_thread       contextvars         numpydoc            tables\n",
      "_elementtree        copy                odbc                tabnanny\n",
      "_functools          copyreg             olefile             tarfile\n",
      "_hashlib            crypt               opcode              tblib\n",
      "_heapq              cryptography        openpyxl            telnetlib\n",
      "_imp                csv                 operator            tempfile\n",
      "_io                 ctypes              optparse            terminado\n",
      "_json               curl                os                  test\n",
      "_locale             curses              packaging           test_data\n",
      "_lsprof             cwp                 pandas              test_path\n",
      "_lzma               cycler              pandocfilters       test_pycosat\n",
      "_markupbase         cython              parser              testpath\n",
      "_md5                cythonmagic         parso               tests\n",
      "_msi                cytoolz             partd               textwrap\n",
      "_multibytecodec     dask                past                this\n",
      "_multiprocessing    dataclasses         path                threading\n",
      "_nsis               datetime            pathlib             time\n",
      "_opcode             dateutil            pathlib2            timeit\n",
      "_operator           dbi                 patsy               timer\n",
      "_osx_support        dbm                 pdb                 tkinter\n",
      "_overlapped         dde                 pep8                tlz\n",
      "_pickle             decimal             perfmon             token\n",
      "_py_abc             decorator           pickle              tokenize\n",
      "_pydecimal          defusedxml          pickleshare         toolz\n",
      "_pyio               difflib             pickletools         tornado\n",
      "_pylief             dis                 pip                 tqdm\n",
      "_pyrsistent_version distributed         pipes               trace\n",
      "_pytest             distutils           pkg_resources       traceback\n",
      "_queue              doctest             pkginfo             tracemalloc\n",
      "_random             docutils            pkgutil             traitlets\n",
      "_sha1               dummy_threading     platform            tty\n",
      "_sha256             easy_install        plistlib            turtle\n",
      "_sha3               email               pluggy              turtledemo\n",
      "_sha512             encodings           ply                 types\n",
      "_signal             ensurepip           poplib              typing\n",
      "_sitebuiltins       entrypoints         posixpath           unicodecsv\n",
      "_socket             enum                pprint              unicodedata\n",
      "_sqlite3            errno               profile             unittest\n",
      "_sre                et_xmlfile          prometheus_client   urllib\n",
      "_ssl                fastcache           prompt_toolkit      urllib3\n",
      "_stat               faulthandler        pstats              uu\n",
      "_string             filecmp             psutil              uuid\n",
      "_strptime           fileinput           pty                 venv\n",
      "_struct             filelock            pvectorc            warnings\n",
      "_symtable           flask               py                  wave\n",
      "_system_path        fnmatch             py_compile          wcwidth\n",
      "_testbuffer         formatter           pyclbr              weakref\n",
      "_testcapi           fractions           pycodestyle         webbrowser\n",
      "_testconsole        ftplib              pycosat             webencodings\n",
      "_testimportmultiple functools           pycparser           werkzeug\n",
      "_testmultiphase     future              pycurl              wheel\n",
      "_thread             gc                  pydoc               widgetsnbextension\n",
      "_threading_local    genericpath         pydoc_data          win2kras\n",
      "_tkinter            getopt              pyexpat             win32api\n",
      "_tracemalloc        getpass             pyflakes            win32clipboard\n",
      "_warnings           gettext             pygments            win32com\n",
      "_weakref            gevent              pylab               win32con\n",
      "_weakrefset         glob                pylint              win32console\n",
      "_win32sysloader     glob2               pyodbc              win32cred\n",
      "_winapi             greenlet            pyparsing           win32crypt\n",
      "_winxptheme         gzip                pyreadline          win32cryptcon\n",
      "_yaml               h5py                pyrsistent          win32event\n",
      "abc                 hashlib             pytest              win32evtlog\n",
      "adodbapi            heapdict            pytest_arraydiff    win32evtlogutil\n",
      "afxres              heapq               pytest_doctestplus  win32file\n",
      "aifc                hmac                pytest_openfiles    win32gui\n",
      "alabaster           html                pytest_remotedata   win32gui_struct\n",
      "anaconda_navigator  html5lib            pythoncom           win32help\n",
      "anaconda_project    http                pytz                win32inet\n",
      "antigravity         idlelib             pywin               win32inetcon\n",
      "argparse            idna                pywin32_testutil    win32job\n",
      "array               imageio             pywintypes          win32lz\n",
      "asn1crypto          imagesize           pywt                win32net\n",
      "ast                 imaplib             pyximport           win32netcon\n",
      "astroid             imghdr              qtawesome           win32pdh\n",
      "astropy             imp                 qtconsole           win32pdhquery\n",
      "asynchat            importlib           qtpy                win32pdhutil\n",
      "asyncio             importlib_metadata  queue               win32pipe\n",
      "asyncore            inspect             quopri              win32print\n",
      "atexit              io                  random              win32process\n",
      "atomicwrites        ipaddress           rasutil             win32profile\n",
      "attr                ipykernel           re                  win32ras\n",
      "audioop             ipykernel_launcher  readline            win32rcparser\n",
      "autoreload          ipython_genutils    regcheck            win32security\n",
      "babel               ipywidgets          regutil             win32service\n"
     ]
    },
    {
     "name": "stdout",
     "output_type": "stream",
     "text": [
      "backcall            isapi               reprlib             win32serviceutil\n",
      "backports           isort               requests            win32timezone\n",
      "base64              isympy              rlcompleter         win32trace\n",
      "bdb                 itertools           rmagic              win32traceutil\n",
      "binascii            itsdangerous        rope                win32transaction\n",
      "binhex              jdcal               ruamel_yaml         win32ts\n",
      "binstar_client      jedi                run                 win32ui\n",
      "bisect              jinja2              runpy               win32uiole\n",
      "bitarray            json                sched               win32verstamp\n",
      "bkcharts            jsonschema          scipy               win32wnet\n",
      "bleach              jupyter             scripts             win_inet_pton\n",
      "bokeh               jupyter_client      seaborn             win_unicode_console\n",
      "boto                jupyter_console     secrets             wincertstore\n",
      "bottleneck          jupyter_core        select              winerror\n",
      "brain_argparse      jupyterlab          selectors           winioctlcon\n",
      "brain_attrs         jupyterlab_server   send2trash          winnt\n",
      "brain_builtin_inference keyring             servicemanager      winperf\n",
      "brain_collections   keyword             setuptools          winpty\n",
      "brain_curses        kiwisolver          shelve              winreg\n",
      "brain_dateutil      lazy_object_proxy   shlex               winsound\n",
      "brain_fstrings      lib2to3             shutil              winxpgui\n",
      "brain_functools     libarchive          signal              winxptheme\n",
      "brain_gi            libfuturize         simplegeneric       wrapt\n",
      "brain_hashlib       libpasteurize       singledispatch      wsgiref\n",
      "brain_http          lief                singledispatch_helpers xdrlib\n",
      "brain_io            linecache           sip                 xlrd\n",
      "brain_mechanize     llvmlite            sipconfig           xlsxwriter\n",
      "brain_multiprocessing locale              sipdistutils        xlwings\n",
      "brain_namedtuple_enum locket              site                xlwt\n",
      "brain_nose          logging             six                 xml\n",
      "brain_numpy         lxml                skimage             xmlrpc\n",
      "brain_pkg_resources lzma                sklearn             xxsubtype\n",
      "brain_pytest        macpath             smtpd               yaml\n",
      "brain_qt            mailbox             smtplib             zict\n",
      "brain_random        mailcap             sndhdr              zipapp\n",
      "brain_re            markupsafe          snowballstemmer     zipfile\n",
      "brain_six           marshal             socket              zipimport\n",
      "brain_ssl           math                socketserver        zipp\n",
      "brain_subprocess    matplotlib          socks               zlib\n",
      "brain_threading     mccabe              sockshandler        zmq\n",
      "brain_typing        menuinst            sortedcollections   \n",
      "brain_uuid          mimetypes           sortedcontainers    \n",
      "bs4                 mistune             soupsieve           \n",
      "\n",
      "Enter any module name to get more help.  Or, type \"modules spam\" to search\n",
      "for modules whose name or summary contain the string \"spam\".\n",
      "\n",
      "DEBUG:matplotlib.pyplot:Loaded backend module://ipykernel.pylab.backend_inline version unknown.\n"
     ]
    }
   ],
   "source": [
    "help('modules')"
   ]
  },
  {
   "cell_type": "code",
   "execution_count": 55,
   "metadata": {},
   "outputs": [],
   "source": [
    "import sys"
   ]
  },
  {
   "cell_type": "code",
   "execution_count": 56,
   "metadata": {},
   "outputs": [
    {
     "name": "stdout",
     "output_type": "stream",
     "text": [
      "['__breakpointhook__', '__displayhook__', '__doc__', '__excepthook__', '__interactivehook__', '__loader__', '__name__', '__package__', '__spec__', '__stderr__', '__stdin__', '__stdout__', '_clear_type_cache', '_current_frames', '_debugmallocstats', '_enablelegacywindowsfsencoding', '_framework', '_getframe', '_git', '_home', '_xoptions', 'api_version', 'argv', 'base_exec_prefix', 'base_prefix', 'breakpointhook', 'builtin_module_names', 'byteorder', 'call_tracing', 'callstats', 'copyright', 'displayhook', 'dllhandle', 'dont_write_bytecode', 'exc_info', 'excepthook', 'exec_prefix', 'executable', 'exit', 'flags', 'float_info', 'float_repr_style', 'get_asyncgen_hooks', 'get_coroutine_origin_tracking_depth', 'get_coroutine_wrapper', 'getallocatedblocks', 'getcheckinterval', 'getdefaultencoding', 'getfilesystemencodeerrors', 'getfilesystemencoding', 'getprofile', 'getrecursionlimit', 'getrefcount', 'getsizeof', 'getswitchinterval', 'gettrace', 'getwindowsversion', 'hash_info', 'hexversion', 'implementation', 'int_info', 'intern', 'is_finalizing', 'last_traceback', 'last_type', 'last_value', 'maxsize', 'maxunicode', 'meta_path', 'modules', 'path', 'path_hooks', 'path_importer_cache', 'platform', 'prefix', 'ps1', 'ps2', 'ps3', 'py2_modules', 'set_asyncgen_hooks', 'set_coroutine_origin_tracking_depth', 'set_coroutine_wrapper', 'setcheckinterval', 'setprofile', 'setrecursionlimit', 'setswitchinterval', 'settrace', 'stderr', 'stdin', 'stdout', 'thread_info', 'version', 'version_info', 'warnoptions', 'winver']\n"
     ]
    }
   ],
   "source": [
    "printt(dir(sys))"
   ]
  },
  {
   "cell_type": "code",
   "execution_count": 57,
   "metadata": {},
   "outputs": [
    {
     "data": {
      "text/plain": [
       "'3.7.3 (default, Mar 27 2019, 17:13:21) [MSC v.1915 64 bit (AMD64)]'"
      ]
     },
     "execution_count": 57,
     "metadata": {},
     "output_type": "execute_result"
    }
   ],
   "source": [
    "sys.version"
   ]
  },
  {
   "cell_type": "code",
   "execution_count": 58,
   "metadata": {},
   "outputs": [
    {
     "data": {
      "text/plain": [
       "sys.version_info(major=3, minor=7, micro=3, releaselevel='final', serial=0)"
      ]
     },
     "execution_count": 58,
     "metadata": {},
     "output_type": "execute_result"
    }
   ],
   "source": [
    "sys.version_info"
   ]
  },
  {
   "cell_type": "code",
   "execution_count": null,
   "metadata": {},
   "outputs": [],
   "source": []
  }
 ],
 "metadata": {
  "kernelspec": {
   "display_name": "Python 3",
   "language": "python",
   "name": "python3"
  },
  "language_info": {
   "codemirror_mode": {
    "name": "ipython",
    "version": 3
   },
   "file_extension": ".py",
   "mimetype": "text/x-python",
   "name": "python",
   "nbconvert_exporter": "python",
   "pygments_lexer": "ipython3",
   "version": "3.7.3"
  }
 },
 "nbformat": 4,
 "nbformat_minor": 2
}
